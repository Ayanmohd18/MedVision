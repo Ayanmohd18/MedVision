{
 "cells": [
  {
   "cell_type": "markdown",
   "metadata": {},
   "source": [
    "# Chest X-Ray Data Exploration\n",
    "\n",
    "This notebook explores the ChestX-ray14 and MIMIC-CXR datasets for radiology report generation."
   ]
  },
  {
   "cell_type": "code",
   "execution_count": null,
   "metadata": {},
   "outputs": [],
   "source": [
    "import pandas as pd\n",
    "import matplotlib.pyplot as plt\n",
    "import seaborn as sns\n",
    "import numpy as np\n",
    "from pathlib import Path\n",
    "\n",
    "# Add src to path\n",
    "import sys\n",
    "sys.path.append('../src')\n",
    "\n",
    "from data_processing.image_preprocessor import ChestXRayPreprocessor\n",
    "from utils.config import config"
   ]
  },
  {
   "cell_type": "markdown",
   "metadata": {},
   "source": [
    "## Dataset Overview"
   ]
  },
  {
   "cell_type": "code",
   "execution_count": null,
   "metadata": {},
   "outputs": [],
   "source": [
    "# Load dataset metadata\n",
    "# df = pd.read_csv('../data/raw/chestx_ray14/Data_Entry_2017.csv')\n",
    "# print(f\"Dataset size: {len(df)} images\")\n",
    "# print(f\"Unique patients: {df['Patient ID'].nunique()}\")\n",
    "# df.head()"
   ]
  },
  {
   "cell_type": "markdown",
   "metadata": {},
   "source": [
    "## Pathology Distribution"
   ]
  },
  {
   "cell_type": "code",
   "execution_count": null,
   "metadata": {},
   "outputs": [],
   "source": [
    "# Analyze pathology distribution\n",
    "pathologies = config.model_config['pathologies']\n",
    "print(f\"Detectable pathologies: {len(pathologies)}\")\n",
    "for i, pathology in enumerate(pathologies):\n",
    "    print(f\"{i+1:2d}. {pathology}\")"
   ]
  },
  {
   "cell_type": "markdown",
   "metadata": {},
   "source": [
    "## Image Preprocessing Pipeline"
   ]
  },
  {
   "cell_type": "code",
   "execution_count": null,
   "metadata": {},
   "outputs": [],
   "source": [
    "# Test image preprocessing\n",
    "preprocessor = ChestXRayPreprocessor()\n",
    "print(f\"Image size: {preprocessor.image_size}\")\n",
    "print(f\"Normalization mean: {preprocessor.normalize_mean}\")\n",
    "print(f\"Normalization std: {preprocessor.normalize_std}\")"
   ]
  }
 ],
 "metadata": {
  "kernelspec": {
   "display_name": "Python 3",
   "language": "python",
   "name": "python3"
  },
  "language_info": {
   "codemirror_mode": {
    "name": "ipython",
    "version": 3
   },
   "file_extension": ".py",
   "mimetype": "text/x-python",
   "name": "python",
   "nbconvert_exporter": "python",
   "pygments_lexer": "ipython3",
   "version": "3.8.0"
  }
 },
 "nbformat": 4,
 "nbformat_minor": 4
}